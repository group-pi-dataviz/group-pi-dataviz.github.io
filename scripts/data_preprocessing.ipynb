{
 "cells": [
  {
   "cell_type": "markdown",
   "id": "5a50e3ff",
   "metadata": {},
   "source": [
    "# Data Preprocessing"
   ]
  },
  {
   "cell_type": "code",
   "execution_count": 1,
   "id": "32ab481b",
   "metadata": {},
   "outputs": [],
   "source": [
    "import pandas as pd\n",
    "import numpy as np\n",
    "import matplotlib.pyplot as plt"
   ]
  },
  {
   "cell_type": "code",
   "execution_count": 2,
   "id": "8c632bd5",
   "metadata": {},
   "outputs": [],
   "source": [
    "def load_data(file_path):\n",
    "    \"\"\"Load data from a CSV file into a pandas DataFrame.\"\"\"\n",
    "    try:\n",
    "        data = pd.read_csv(file_path, sep=';')\n",
    "        print(\"Data loaded successfully.\")\n",
    "        return data\n",
    "    except Exception as e:\n",
    "        print(f\"An error occurred while loading the data: {e}\")\n",
    "        return None\n",
    "\n",
    "def summarize_data(data):\n",
    "    \"\"\"Generate summary statistics of the DataFrame.\"\"\"\n",
    "    if data is not None:\n",
    "        summary = data.describe()\n",
    "        print(\"Data summary:\")\n",
    "        #print(summary)\n",
    "        return summary\n",
    "    else:\n",
    "        print(\"No data to summarize.\")\n",
    "        return None"
   ]
  },
  {
   "cell_type": "code",
   "execution_count": 3,
   "id": "550cc2ab",
   "metadata": {},
   "outputs": [
    {
     "name": "stdout",
     "output_type": "stream",
     "text": [
      "Data loaded successfully.\n",
      "Data summary:\n"
     ]
    },
    {
     "data": {
      "text/html": [
       "<div>\n",
       "<style scoped>\n",
       "    .dataframe tbody tr th:only-of-type {\n",
       "        vertical-align: middle;\n",
       "    }\n",
       "\n",
       "    .dataframe tbody tr th {\n",
       "        vertical-align: top;\n",
       "    }\n",
       "\n",
       "    .dataframe thead th {\n",
       "        text-align: right;\n",
       "    }\n",
       "</style>\n",
       "<table border=\"1\" class=\"dataframe\">\n",
       "  <thead>\n",
       "    <tr style=\"text-align: right;\">\n",
       "      <th></th>\n",
       "      <th>EVENTS</th>\n",
       "      <th>FATALITIES</th>\n",
       "      <th>POPULATION_EXPOSURE</th>\n",
       "      <th>ID</th>\n",
       "    </tr>\n",
       "  </thead>\n",
       "  <tbody>\n",
       "    <tr>\n",
       "      <th>count</th>\n",
       "      <td>197730.000000</td>\n",
       "      <td>197730.000000</td>\n",
       "      <td>9.976600e+04</td>\n",
       "      <td>197730.000000</td>\n",
       "    </tr>\n",
       "    <tr>\n",
       "      <th>mean</th>\n",
       "      <td>3.459632</td>\n",
       "      <td>2.036479</td>\n",
       "      <td>9.523680e+04</td>\n",
       "      <td>1538.280291</td>\n",
       "    </tr>\n",
       "    <tr>\n",
       "      <th>std</th>\n",
       "      <td>7.029385</td>\n",
       "      <td>9.795868</td>\n",
       "      <td>2.026675e+05</td>\n",
       "      <td>993.437542</td>\n",
       "    </tr>\n",
       "    <tr>\n",
       "      <th>min</th>\n",
       "      <td>1.000000</td>\n",
       "      <td>0.000000</td>\n",
       "      <td>1.000000e+00</td>\n",
       "      <td>1.000000</td>\n",
       "    </tr>\n",
       "    <tr>\n",
       "      <th>25%</th>\n",
       "      <td>1.000000</td>\n",
       "      <td>0.000000</td>\n",
       "      <td>1.054400e+04</td>\n",
       "      <td>593.000000</td>\n",
       "    </tr>\n",
       "    <tr>\n",
       "      <th>50%</th>\n",
       "      <td>1.000000</td>\n",
       "      <td>0.000000</td>\n",
       "      <td>3.482700e+04</td>\n",
       "      <td>1314.000000</td>\n",
       "    </tr>\n",
       "    <tr>\n",
       "      <th>75%</th>\n",
       "      <td>3.000000</td>\n",
       "      <td>0.000000</td>\n",
       "      <td>9.525400e+04</td>\n",
       "      <td>2283.000000</td>\n",
       "    </tr>\n",
       "    <tr>\n",
       "      <th>max</th>\n",
       "      <td>190.000000</td>\n",
       "      <td>618.000000</td>\n",
       "      <td>5.030356e+06</td>\n",
       "      <td>4157.000000</td>\n",
       "    </tr>\n",
       "  </tbody>\n",
       "</table>\n",
       "</div>"
      ],
      "text/plain": [
       "              EVENTS     FATALITIES  POPULATION_EXPOSURE             ID\n",
       "count  197730.000000  197730.000000         9.976600e+04  197730.000000\n",
       "mean        3.459632       2.036479         9.523680e+04    1538.280291\n",
       "std         7.029385       9.795868         2.026675e+05     993.437542\n",
       "min         1.000000       0.000000         1.000000e+00       1.000000\n",
       "25%         1.000000       0.000000         1.054400e+04     593.000000\n",
       "50%         1.000000       0.000000         3.482700e+04    1314.000000\n",
       "75%         3.000000       0.000000         9.525400e+04    2283.000000\n",
       "max       190.000000     618.000000         5.030356e+06    4157.000000"
      ]
     },
     "execution_count": 3,
     "metadata": {},
     "output_type": "execute_result"
    }
   ],
   "source": [
    "data = load_data(\"../data/apac_data.csv\")\n",
    "summarize_data(data)"
   ]
  },
  {
   "cell_type": "code",
   "execution_count": 4,
   "id": "cbe59e0b",
   "metadata": {},
   "outputs": [
    {
     "data": {
      "text/html": [
       "<div>\n",
       "<style scoped>\n",
       "    .dataframe tbody tr th:only-of-type {\n",
       "        vertical-align: middle;\n",
       "    }\n",
       "\n",
       "    .dataframe tbody tr th {\n",
       "        vertical-align: top;\n",
       "    }\n",
       "\n",
       "    .dataframe thead th {\n",
       "        text-align: right;\n",
       "    }\n",
       "</style>\n",
       "<table border=\"1\" class=\"dataframe\">\n",
       "  <thead>\n",
       "    <tr style=\"text-align: right;\">\n",
       "      <th></th>\n",
       "      <th>WEEK</th>\n",
       "      <th>REGION</th>\n",
       "      <th>COUNTRY</th>\n",
       "      <th>ADMIN1</th>\n",
       "      <th>EVENT_TYPE</th>\n",
       "      <th>SUB_EVENT_TYPE</th>\n",
       "      <th>EVENTS</th>\n",
       "      <th>FATALITIES</th>\n",
       "      <th>POPULATION_EXPOSURE</th>\n",
       "      <th>DISORDER_TYPE</th>\n",
       "      <th>ID</th>\n",
       "      <th>CENTROID_LATITUDE</th>\n",
       "      <th>CENTROID_LONGITUDE</th>\n",
       "    </tr>\n",
       "  </thead>\n",
       "  <tbody>\n",
       "    <tr>\n",
       "      <th>0</th>\n",
       "      <td>31-dicembre-2016</td>\n",
       "      <td>Caucasus and Central Asia</td>\n",
       "      <td>Afghanistan</td>\n",
       "      <td>Badakhshan</td>\n",
       "      <td>Battles</td>\n",
       "      <td>Armed clash</td>\n",
       "      <td>6</td>\n",
       "      <td>15</td>\n",
       "      <td>NaN</td>\n",
       "      <td>Political violence</td>\n",
       "      <td>1</td>\n",
       "      <td>36,966</td>\n",
       "      <td>73,3417</td>\n",
       "    </tr>\n",
       "    <tr>\n",
       "      <th>1</th>\n",
       "      <td>07-gennaio-2017</td>\n",
       "      <td>Caucasus and Central Asia</td>\n",
       "      <td>Afghanistan</td>\n",
       "      <td>Badakhshan</td>\n",
       "      <td>Battles</td>\n",
       "      <td>Armed clash</td>\n",
       "      <td>5</td>\n",
       "      <td>28</td>\n",
       "      <td>NaN</td>\n",
       "      <td>Political violence</td>\n",
       "      <td>1</td>\n",
       "      <td>36,966</td>\n",
       "      <td>73,3417</td>\n",
       "    </tr>\n",
       "    <tr>\n",
       "      <th>2</th>\n",
       "      <td>21-gennaio-2017</td>\n",
       "      <td>Caucasus and Central Asia</td>\n",
       "      <td>Afghanistan</td>\n",
       "      <td>Badakhshan</td>\n",
       "      <td>Battles</td>\n",
       "      <td>Armed clash</td>\n",
       "      <td>1</td>\n",
       "      <td>4</td>\n",
       "      <td>NaN</td>\n",
       "      <td>Political violence</td>\n",
       "      <td>1</td>\n",
       "      <td>36,966</td>\n",
       "      <td>73,3417</td>\n",
       "    </tr>\n",
       "    <tr>\n",
       "      <th>3</th>\n",
       "      <td>04-febbraio-2017</td>\n",
       "      <td>Caucasus and Central Asia</td>\n",
       "      <td>Afghanistan</td>\n",
       "      <td>Badakhshan</td>\n",
       "      <td>Battles</td>\n",
       "      <td>Armed clash</td>\n",
       "      <td>1</td>\n",
       "      <td>4</td>\n",
       "      <td>NaN</td>\n",
       "      <td>Political violence</td>\n",
       "      <td>1</td>\n",
       "      <td>36,966</td>\n",
       "      <td>73,3417</td>\n",
       "    </tr>\n",
       "    <tr>\n",
       "      <th>4</th>\n",
       "      <td>11-febbraio-2017</td>\n",
       "      <td>Caucasus and Central Asia</td>\n",
       "      <td>Afghanistan</td>\n",
       "      <td>Badakhshan</td>\n",
       "      <td>Battles</td>\n",
       "      <td>Armed clash</td>\n",
       "      <td>4</td>\n",
       "      <td>41</td>\n",
       "      <td>NaN</td>\n",
       "      <td>Political violence</td>\n",
       "      <td>1</td>\n",
       "      <td>36,966</td>\n",
       "      <td>73,3417</td>\n",
       "    </tr>\n",
       "  </tbody>\n",
       "</table>\n",
       "</div>"
      ],
      "text/plain": [
       "               WEEK                     REGION      COUNTRY      ADMIN1  \\\n",
       "0  31-dicembre-2016  Caucasus and Central Asia  Afghanistan  Badakhshan   \n",
       "1   07-gennaio-2017  Caucasus and Central Asia  Afghanistan  Badakhshan   \n",
       "2   21-gennaio-2017  Caucasus and Central Asia  Afghanistan  Badakhshan   \n",
       "3  04-febbraio-2017  Caucasus and Central Asia  Afghanistan  Badakhshan   \n",
       "4  11-febbraio-2017  Caucasus and Central Asia  Afghanistan  Badakhshan   \n",
       "\n",
       "  EVENT_TYPE SUB_EVENT_TYPE  EVENTS  FATALITIES  POPULATION_EXPOSURE  \\\n",
       "0    Battles    Armed clash       6          15                  NaN   \n",
       "1    Battles    Armed clash       5          28                  NaN   \n",
       "2    Battles    Armed clash       1           4                  NaN   \n",
       "3    Battles    Armed clash       1           4                  NaN   \n",
       "4    Battles    Armed clash       4          41                  NaN   \n",
       "\n",
       "        DISORDER_TYPE  ID CENTROID_LATITUDE CENTROID_LONGITUDE  \n",
       "0  Political violence   1            36,966            73,3417  \n",
       "1  Political violence   1            36,966            73,3417  \n",
       "2  Political violence   1            36,966            73,3417  \n",
       "3  Political violence   1            36,966            73,3417  \n",
       "4  Political violence   1            36,966            73,3417  "
      ]
     },
     "execution_count": 4,
     "metadata": {},
     "output_type": "execute_result"
    }
   ],
   "source": [
    "data.head()"
   ]
  },
  {
   "cell_type": "code",
   "execution_count": 5,
   "id": "0bc4098e",
   "metadata": {},
   "outputs": [
    {
     "data": {
      "text/plain": [
       "WEEK              REGION                     COUNTRY      ADMIN1            EVENT_TYPE                  SUB_EVENT_TYPE             EVENTS  FATALITIES  POPULATION_EXPOSURE  DISORDER_TYPE       ID    CENTROID_LATITUDE  CENTROID_LONGITUDE\n",
       "01-agosto-2020    Caucasus and Central Asia  Afghanistan  Badakhshan        Battles                     Armed clash                1       1           32289.0              Political violence  1     36,966             73,3417               1\n",
       "21-agosto-2021    South Asia                 India        Puducherry        Protests                    Peaceful protest           2       0           49552.0              Demonstrations      1281  11,927             79,7804               1\n",
       "                                             Nepal        Lumbini           Riots                       Mob violence               1       0           20381.0              Political violence  2078  28,1               82,5221               1\n",
       "                                                                            Protests                    Peaceful protest           1       0           9167.0               Demonstrations      2078  28,1               82,5221               1\n",
       "                                                          Koshi             Violence against civilians  Attack                     1       0           2860.0               Political violence  2079  27,2278            87,18                 1\n",
       "                                                                                                                                                                                                                                              ..\n",
       "11-dicembre-2021  East Asia                  China        Henan             Protests                    Peaceful protest           2       0           40513.0              Demonstrations      580   33,8584            113,0553              1\n",
       "                                                          Guangdong         Protests                    Protest with intervention  1       0           18978.0              Demonstrations      574   22,8678            112,3937              1\n",
       "                                                          Fujian            Violence against civilians  Attack                     1       0           137943.0             Political violence  572   25,9625            118,0072              1\n",
       "                                                                            Protests                    Peaceful protest           1       0           38112.0              Demonstrations      572   25,9625            118,0072              1\n",
       "31-ottobre-2020   Southeast Asia             Thailand     Ubon Ratchathani  Protests                    Peaceful protest           1       0           9040.0               Demonstrations      3292  15,1537            105,1065              1\n",
       "Name: count, Length: 99766, dtype: int64"
      ]
     },
     "execution_count": 5,
     "metadata": {},
     "output_type": "execute_result"
    }
   ],
   "source": [
    "data.value_counts()"
   ]
  },
  {
   "cell_type": "code",
   "execution_count": 7,
   "id": "0bb84fab",
   "metadata": {},
   "outputs": [
    {
     "name": "stdout",
     "output_type": "stream",
     "text": [
      "EVENT_TYPE\n",
      "Protests                      77400\n",
      "Violence against civilians    26894\n",
      "Riots                         24619\n",
      "Battles                       23503\n",
      "Explosions/Remote violence    23085\n",
      "Strategic developments        22229\n",
      "Name: count, dtype: int64\n"
     ]
    }
   ],
   "source": [
    "print(data['EVENT_TYPE'].value_counts())"
   ]
  },
  {
   "cell_type": "code",
   "execution_count": 8,
   "id": "10ca508c",
   "metadata": {},
   "outputs": [
    {
     "name": "stdout",
     "output_type": "stream",
     "text": [
      "SUB_EVENT_TYPE\n",
      "Peaceful protest                       67117\n",
      "Attack                                 22392\n",
      "Armed clash                            22307\n",
      "Mob violence                           14483\n",
      "Remote explosive/landmine/IED          11160\n",
      "Violent demonstration                  10136\n",
      "Protest with intervention               9559\n",
      "Looting/property destruction            5269\n",
      "Arrests                                 5023\n",
      "Air/drone strike                        4752\n",
      "Shelling/artillery/missile attack       4666\n",
      "Disrupted weapons use                   4209\n",
      "Abduction/forced disappearance          3819\n",
      "Other                                   3800\n",
      "Change to group/activity                2836\n",
      "Grenade                                 1909\n",
      "Agreement                                816\n",
      "Non-state actor overtakes territory      748\n",
      "Excessive force against protesters       724\n",
      "Sexual violence                          683\n",
      "Suicide bomb                             592\n",
      "Government regains territory             448\n",
      "Non-violent transfer of territory        191\n",
      "Headquarters or base established          85\n",
      "Chemical weapon                            6\n",
      "Name: count, dtype: int64\n"
     ]
    }
   ],
   "source": [
    "print(data['SUB_EVENT_TYPE'].value_counts())"
   ]
  },
  {
   "cell_type": "code",
   "execution_count": null,
   "id": "a6f29d32",
   "metadata": {},
   "outputs": [],
   "source": [
    "# pd.DataFrame(data['EVENT_TYPE'].value_counts()).to_csv('../data/event_type_counts.csv', sep=';')"
   ]
  },
  {
   "cell_type": "code",
   "execution_count": null,
   "id": "8be13d3c",
   "metadata": {},
   "outputs": [
    {
     "name": "stdout",
     "output_type": "stream",
     "text": [
      "COUNTRY\n",
      "India                       194826\n",
      "Pakistan                    108247\n",
      "Myanmar                      96280\n",
      "Afghanistan                  68495\n",
      "South Korea                  43999\n",
      "Bangladesh                   32817\n",
      "Nepal                        24669\n",
      "Indonesia                    23596\n",
      "Philippines                  18317\n",
      "China                        16941\n",
      "Thailand                     13146\n",
      "Japan                        13042\n",
      "Sri Lanka                     8843\n",
      "Taiwan                        6983\n",
      "Australia                     4109\n",
      "Cambodia                      2456\n",
      "Malaysia                      1545\n",
      "Papua New Guinea              1319\n",
      "New Zealand                   1149\n",
      "Mongolia                       758\n",
      "Vietnam                        569\n",
      "North Korea                    566\n",
      "Maldives                       389\n",
      "New Caledonia                  381\n",
      "French Polynesia               162\n",
      "East Timor                      80\n",
      "Guam                            60\n",
      "Laos                            54\n",
      "Solomon Islands                 52\n",
      "Fiji                            51\n",
      "Singapore                       33\n",
      "Wallis and Futuna               27\n",
      "Samoa                           25\n",
      "Vanuatu                         15\n",
      "Bhutan                          11\n",
      "Northern Mariana Islands        11\n",
      "Antarctica                       9\n",
      "American Samoa                   7\n",
      "Cook Islands                     6\n",
      "Marshall Islands                 5\n",
      "Tonga                            5\n",
      "Palau                            3\n",
      "Nauru                            3\n",
      "Kiribati                         3\n",
      "Brunei                           2\n",
      "Christmas Island                 2\n",
      "Micronesia                       2\n",
      "Niue                             1\n",
      "Tokelau                          1\n",
      "Tuvalu                           1\n",
      "Name: EVENTS, dtype: int64\n"
     ]
    }
   ],
   "source": [
    "print(data.groupby('COUNTRY')['EVENTS'].sum().sort_values(ascending=False))"
   ]
  },
  {
   "cell_type": "code",
   "execution_count": null,
   "id": "66aadf70",
   "metadata": {},
   "outputs": [
    {
     "name": "stdout",
     "output_type": "stream",
     "text": [
      "COUNTRY\n",
      "India                       2.728758e+09\n",
      "Pakistan                    1.677425e+09\n",
      "Myanmar                     1.219752e+09\n",
      "Afghanistan                 9.092316e+08\n",
      "Bangladesh                  7.227659e+08\n",
      "Philippines                 4.624176e+08\n",
      "China                       4.020758e+08\n",
      "Indonesia                   3.822990e+08\n",
      "Nepal                       3.075370e+08\n",
      "South Korea                 2.838715e+08\n",
      "Japan                       1.347886e+08\n",
      "Taiwan                      7.605252e+07\n",
      "Thailand                    5.184452e+07\n",
      "Sri Lanka                   3.714124e+07\n",
      "Maldives                    2.280541e+07\n",
      "Australia                   1.959088e+07\n",
      "Papua New Guinea            1.566540e+07\n",
      "Malaysia                    1.040534e+07\n",
      "New Zealand                 1.032009e+07\n",
      "North Korea                 7.879911e+06\n",
      "Cambodia                    7.045565e+06\n",
      "Mongolia                    2.855375e+06\n",
      "East Timor                  2.677160e+06\n",
      "Vietnam                     1.815293e+06\n",
      "New Caledonia               1.417607e+06\n",
      "French Polynesia            9.024090e+05\n",
      "Fiji                        6.197710e+05\n",
      "Solomon Islands             5.306350e+05\n",
      "Laos                        2.889400e+05\n",
      "Guam                        2.512230e+05\n",
      "Singapore                   1.267890e+05\n",
      "Vanuatu                     6.267900e+04\n",
      "Samoa                       5.795400e+04\n",
      "Bhutan                      5.734600e+04\n",
      "Tonga                       1.401500e+04\n",
      "American Samoa              1.232400e+04\n",
      "Marshall Islands            9.372000e+03\n",
      "Wallis and Futuna           7.560000e+03\n",
      "Cook Islands                4.185000e+03\n",
      "Northern Mariana Islands    3.093000e+03\n",
      "Christmas Island            2.617000e+03\n",
      "Palau                       2.535000e+03\n",
      "Brunei                      1.984000e+03\n",
      "Antarctica                  0.000000e+00\n",
      "Niue                        0.000000e+00\n",
      "Tokelau                     0.000000e+00\n",
      "Nauru                       0.000000e+00\n",
      "Tuvalu                      0.000000e+00\n",
      "Micronesia                  0.000000e+00\n",
      "Kiribati                    0.000000e+00\n",
      "Name: POPULATION_EXPOSURE, dtype: float64\n"
     ]
    }
   ],
   "source": [
    "print(data.groupby('COUNTRY')['POPULATION_EXPOSURE'].sum().sort_values(ascending=False))"
   ]
  },
  {
   "cell_type": "code",
   "execution_count": null,
   "id": "d4e9938a",
   "metadata": {},
   "outputs": [
    {
     "name": "stdout",
     "output_type": "stream",
     "text": [
      "COUNTRY\n",
      "Afghanistan                 203233\n",
      "Myanmar                      98367\n",
      "Pakistan                     53153\n",
      "Philippines                  18295\n",
      "India                        13353\n",
      "Bangladesh                    8150\n",
      "Thailand                      3397\n",
      "Indonesia                     1720\n",
      "Papua New Guinea              1308\n",
      "Sri Lanka                      528\n",
      "Nepal                          388\n",
      "Cambodia                       252\n",
      "Vietnam                        147\n",
      "North Korea                    139\n",
      "China                          107\n",
      "Malaysia                        54\n",
      "Laos                            38\n",
      "New Caledonia                   19\n",
      "Solomon Islands                  9\n",
      "Australia                        7\n",
      "East Timor                       4\n",
      "Japan                            1\n",
      "Vanuatu                          1\n",
      "Maldives                         1\n",
      "Mongolia                         1\n",
      "New Zealand                      1\n",
      "Samoa                            0\n",
      "Tonga                            0\n",
      "South Korea                      0\n",
      "Singapore                        0\n",
      "Taiwan                           0\n",
      "Tuvalu                           0\n",
      "Tokelau                          0\n",
      "Antarctica                       0\n",
      "Nauru                            0\n",
      "Palau                            0\n",
      "Northern Mariana Islands         0\n",
      "Niue                             0\n",
      "American Samoa                   0\n",
      "Micronesia                       0\n",
      "Marshall Islands                 0\n",
      "Kiribati                         0\n",
      "Guam                             0\n",
      "French Polynesia                 0\n",
      "Fiji                             0\n",
      "Cook Islands                     0\n",
      "Christmas Island                 0\n",
      "Brunei                           0\n",
      "Bhutan                           0\n",
      "Wallis and Futuna                0\n",
      "Name: FATALITIES, dtype: int64\n"
     ]
    }
   ],
   "source": [
    "print(data.groupby('COUNTRY')['FATALITIES'].sum().sort_values(ascending=False))"
   ]
  },
  {
   "cell_type": "code",
   "execution_count": 29,
   "id": "b6ba7e18",
   "metadata": {},
   "outputs": [
    {
     "name": "stdout",
     "output_type": "stream",
     "text": [
      "             EVENTS  FATALITIES\n",
      "COUNTRY                        \n",
      "India        194826       13353\n",
      "Pakistan     108247       53153\n",
      "Myanmar       96280       98367\n",
      "Afghanistan   68495      203233\n",
      "South Korea   43999           0\n",
      "Bangladesh    32817        8150\n",
      "Nepal         24669         388\n",
      "Indonesia     23596        1720\n",
      "Philippines   18317       18295\n",
      "China         16941         107\n",
      "Thailand      13146        3397\n",
      "Japan         13042           1\n",
      "Sri Lanka      8843         528\n",
      "Taiwan         6983           0\n",
      "Australia      4109           7\n"
     ]
    }
   ],
   "source": [
    "print(data.groupby('COUNTRY')[['EVENTS', 'FATALITIES']].sum().sort_values(by='EVENTS', ascending=False)[:15])"
   ]
  },
  {
   "cell_type": "code",
   "execution_count": 45,
   "id": "8c601668",
   "metadata": {},
   "outputs": [
    {
     "name": "stdout",
     "output_type": "stream",
     "text": [
      "             EVENTS  peaceful_events  not_peaceful_events  \\\n",
      "COUNTRY                                                     \n",
      "India        194826           177798                17028   \n",
      "Pakistan     108247            89526                18721   \n",
      "Myanmar       96280            51093                45187   \n",
      "Afghanistan   68495            17029                51466   \n",
      "South Korea   43999            43999                    0   \n",
      "Bangladesh    32817            23359                 9458   \n",
      "Nepal         24669            24106                  563   \n",
      "Indonesia     23596            22338                 1258   \n",
      "Philippines   18317             6015                12302   \n",
      "China         16941            16816                  125   \n",
      "Thailand      13146            10057                 3089   \n",
      "Japan         13042            13041                    1   \n",
      "Sri Lanka      8843             8602                  241   \n",
      "Taiwan         6983             6983                    0   \n",
      "Australia      4109             4107                    2   \n",
      "\n",
      "             percentage_peaceful  percentage_not_peaceful  \n",
      "COUNTRY                                                    \n",
      "India                  91.259893                 8.740107  \n",
      "Pakistan               82.705294                17.294706  \n",
      "Myanmar                53.067096                46.932904  \n",
      "Afghanistan            24.861669                75.138331  \n",
      "South Korea           100.000000                 0.000000  \n",
      "Bangladesh             71.179572                28.820428  \n",
      "Nepal                  97.717783                 2.282217  \n",
      "Indonesia              94.668588                 5.331412  \n",
      "Philippines            32.838347                67.161653  \n",
      "China                  99.262145                 0.737855  \n",
      "Thailand               76.502358                23.497642  \n",
      "Japan                  99.992332                 0.007668  \n",
      "Sri Lanka              97.274681                 2.725319  \n",
      "Taiwan                100.000000                 0.000000  \n",
      "Australia              99.951326                 0.048674  \n"
     ]
    }
   ],
   "source": [
    "events_by_type = pd.DataFrame(data.groupby('COUNTRY')['EVENTS'].sum().sort_values(ascending=False)[:15])\n",
    "events_by_type['peaceful_events'] = data[data['FATALITIES'] == 0].groupby('COUNTRY')['EVENTS'].sum()\n",
    "events_by_type['not_peaceful_events'] = events_by_type['EVENTS'] - events_by_type['peaceful_events']\n",
    "events_by_type['percentage_peaceful'] = (events_by_type['peaceful_events'] / events_by_type['EVENTS']) * 100\n",
    "events_by_type['percentage_not_peaceful'] = (events_by_type['not_peaceful_events'] / events_by_type['EVENTS']) * 100\n",
    "print(events_by_type)\n",
    "\n",
    "\n",
    "events_by_type = pd.DataFrame({\n",
    "    'country': events_by_type.index,\n",
    "    'total_events': events_by_type['EVENTS'].values,\n",
    "    'peaceful_events': events_by_type['peaceful_events'].values,\n",
    "    'not_peaceful_events': events_by_type['not_peaceful_events'].values,\n",
    "    'percentage_peaceful': events_by_type['percentage_peaceful'].values,\n",
    "    'percentage_not_peaceful': events_by_type['percentage_not_peaceful'].values\n",
    "})\n",
    "\n",
    "events_by_type.to_csv('../data/peaceful_events.csv', index=False)\n",
    "\n"
   ]
  },
  {
   "cell_type": "code",
   "execution_count": null,
   "id": "b63cade7",
   "metadata": {},
   "outputs": [],
   "source": [
    "event_counts = data.groupby('COUNTRY')['EVENTS'].sum().sort_values(ascending=False)[0:15]\n",
    "fatality_counts = data.groupby('COUNTRY')['FATALITIES'].sum().sort_values(ascending=False)[0:15]"
   ]
  },
  {
   "cell_type": "code",
   "execution_count": 31,
   "id": "d4aa729b",
   "metadata": {},
   "outputs": [],
   "source": [
    "agg = data.groupby('COUNTRY')[['EVENTS', 'FATALITIES']].sum().sort_values(by='EVENTS', ascending=False)[:15]\n",
    "\n",
    "aggregated_data = pd.DataFrame({\n",
    "    'country': agg.index,\n",
    "    'events': agg['EVENTS'].values,\n",
    "    'fatalities': agg['FATALITIES'].values\n",
    "})\n",
    "\n",
    "aggregated_data.to_csv('../data/event_fatalities.csv', index=False)"
   ]
  },
  {
   "cell_type": "code",
   "execution_count": 20,
   "id": "3c70ccff",
   "metadata": {},
   "outputs": [
    {
     "data": {
      "image/png": "[encoded data removed]",
      "text/plain": [
       "<Figure size 640x480 with 1 Axes>"
      ]
     },
     "metadata": {},
     "output_type": "display_data"
    }
   ],
   "source": [
    "fig, ax = plt.subplots()\n",
    "ax.bar(fatality_counts.index, fatality_counts.values)\n",
    "ax.set_xlabel('Country')\n",
    "ax.set_ylabel('Number of Events')\n",
    "ax.set_title('Events by Country')\n",
    "plt.show()"
   ]
  },
  {
   "cell_type": "code",
   "execution_count": 12,
   "id": "80cd8ce0",
   "metadata": {},
   "outputs": [
    {
     "data": {
      "image/png": "[encoded data removed]",
      "text/plain": [
       "<Figure size 640x480 with 1 Axes>"
      ]
     },
     "metadata": {},
     "output_type": "display_data"
    }
   ],
   "source": [
    "fig, ax = plt.subplots()\n",
    "ax.bar(event_counts.index, event_counts.values)\n",
    "ax.set_xlabel('Country')\n",
    "ax.set_ylabel('Number of Events')\n",
    "ax.set_title('Events by Country')\n",
    "plt.show()"
   ]
  },
  {
   "cell_type": "code",
   "execution_count": null,
   "id": "68a825f6",
   "metadata": {},
   "outputs": [],
   "source": []
  }
 ],
 "metadata": {
  "kernelspec": {
   "display_name": "Python 3",
   "language": "python",
   "name": "python3"
  },
  "language_info": {
   "codemirror_mode": {
    "name": "ipython",
    "version": 3
   },
   "file_extension": ".py",
   "mimetype": "text/x-python",
   "name": "python",
   "nbconvert_exporter": "python",
   "pygments_lexer": "ipython3",
   "version": "3.11.2"
  }
 },
 "nbformat": 4,
 "nbformat_minor": 5
}
